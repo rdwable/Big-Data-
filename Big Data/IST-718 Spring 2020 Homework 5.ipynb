{
 "cells": [
  {
   "cell_type": "markdown",
   "metadata": {},
   "source": [
    "##### Grading Feedback Cell"
   ]
  },
  {
   "cell_type": "markdown",
   "metadata": {
    "deletable": false,
    "nbgrader": {
     "checksum": "c51f80b694da894627ba37be28c86055",
     "grade": false,
     "grade_id": "cell-b038e38b5e3072a9",
     "locked": true,
     "schema_version": 1,
     "solution": false
    }
   },
   "source": [
    "# IST 718: Big Data Analytics\n",
    "\n",
    "- Professor: Willard Williamson <wewillia@syr.edu>\n",
    "- Faculty Assistant: Yash Pasar <yspasar@syr.edu>\n",
    "## General instructions:\n",
    "\n",
    "- You are welcome to discuss the problems with your classmates but __you are not allowed to copy any part of your answers from your classmates.  Short code snippets are allowed from the internet.  Code from the class text books or class provided code can be copied in its entirety.__\n",
    "- There could be tests in some cells (i.e., `assert` and `np.testing.` statements). These tests (if present) are used to grade your answers. **However, the professor and FAs could use __additional__ test for your answer. Think about cases where your code should run even if it passess all the tests you see.**\n",
    "- Before submitting your work, remember to check for run time errors with the following procedure:\n",
    "`Kernel`$\\rightarrow$`Restart and Run All`.  All runtime errors will result in a minimum penalty of half off.\n",
    "- Data Bricks is the official class runtime environment so you should test your code on Data Bricks before submission.  If there is a runtime problem in the grading environment, we will try your code on Data Bricks before making a final grading decision.\n",
    "- All plots shall include a title, and axis labels.\n",
    "- Grading feedback cells are there for graders to provide feedback to students.  Don't change or remove grading feedback cells.\n",
    "- Don't add or remove files from your git repo.\n",
    "- Do not change file names in your repo.  This also means don't change the title of the ipython notebook.\n",
    "- You are free to add additional code cells around the cells marked `your code here`.\n",
    "- __Only use spark, spark machine learning, spark data frames, RDD's, and map reduce to solve all problems unless instructed otherwise.__"
   ]
  },
  {
   "cell_type": "code",
   "execution_count": 235,
   "metadata": {},
   "outputs": [],
   "source": [
    "# import statements\n",
    "\n",
    "from pyspark.sql import SparkSession\n",
    "\n",
    "spark = SparkSession.builder.getOrCreate()\n",
    "sc = spark.sparkContext\n",
    "\n",
    "import numpy as np\n",
    "import pandas as pd\n",
    "\n",
    "from pyspark.sql import functions as fn, Row\n",
    "from pyspark.sql.functions import col, sum, log, concat, lit\n",
    "from pyspark.sql import functions as sf\n",
    "from pyspark.ml import classification, feature, Pipeline, regression, evaluation\n",
    "from pyspark.ml import clustering\n",
    "from pyspark.ml.linalg import Vectors\n",
    "from pyspark.ml.feature import VectorAssembler\n",
    "from pyspark.mllib.stat import Statistics\n",
    "\n",
    "from pyspark.ml.feature import StopWordsRemover\n",
    "import requests\n",
    "from pyspark.ml.feature import Tokenizer\n",
    "from pyspark.ml import Pipeline\n",
    "from pyspark.ml.feature import CountVectorizer\n",
    "from pyspark.ml.feature import IDF\n",
    "\n",
    "import matplotlib.pyplot as plt\n",
    "import seaborn as sns\n",
    "import pyspark.ml.stat"
   ]
  },
  {
   "cell_type": "markdown",
   "metadata": {},
   "source": [
    "The following cell is used to determine if the environment is databricks or personal computer and determine the correct data file path accordingly."
   ]
  },
  {
   "cell_type": "code",
   "execution_count": 236,
   "metadata": {
    "deletable": false,
    "editable": false,
    "nbgrader": {
     "checksum": "ed593a17eab4017a9129cd4ad457fc98",
     "grade": true,
     "grade_id": "cell-20fb7c865c3ddf0e",
     "locked": true,
     "points": 10,
     "schema_version": 1,
     "solution": false
    }
   },
   "outputs": [],
   "source": [
    "# Do not delete or change this cell\n",
    "\n",
    "import os\n",
    "\n",
    "# Define a function to determine if we are running on data bricks\n",
    "# Return true if running in the data bricks environment, false otherwise\n",
    "def is_databricks():\n",
    "    # get the databricks runtime version\n",
    "    db_env = os.getenv(\"DATABRICKS_RUNTIME_VERSION\")\n",
    "    \n",
    "    # if running on data bricks\n",
    "    if db_env != None:\n",
    "        return True\n",
    "    else:\n",
    "        return False\n",
    "\n",
    "# Define a function to read the data file.  The full path data file name is constructed\n",
    "# by checking runtime environment variables to determine if the runtime environment is \n",
    "# databricks, or a student's personal computer.  The full path file name is then\n",
    "# constructed based on the runtime env.\n",
    "# \n",
    "# Params\n",
    "#   data_file_name: The base name of the data file to load\n",
    "# \n",
    "# Returns the full path file name based on the runtime env\n",
    "#\n",
    "def get_training_filename(data_file_name):    \n",
    "    # if running on data bricks\n",
    "    if is_databricks():\n",
    "        # build the full path file name assuming data brick env\n",
    "        full_path_name = \"/FileStore/tables/%s\" % data_file_name\n",
    "    # else the data is assumed to be in the same dir as this notebook\n",
    "    else:\n",
    "        # Assume the student is running on their own computer and load the data\n",
    "        # file from the same dir as this notebook\n",
    "        full_path_name = data_file_name\n",
    "    \n",
    "    # return the full path file name to the caller\n",
    "    return full_path_name"
   ]
  },
  {
   "cell_type": "markdown",
   "metadata": {},
   "source": [
    "# Unsupervised learning"
   ]
  },
  {
   "cell_type": "markdown",
   "metadata": {},
   "source": [
    "The colleges_data_science_programs dataset contains information about dozens of \"data science\" programs across the US."
   ]
  },
  {
   "cell_type": "markdown",
   "metadata": {},
   "source": [
    "## Question 1: (10 pts)\n",
    "\n",
    "This dataset contains many columns that we can use to understand how these data science programs differ from one another."
   ]
  },
  {
   "cell_type": "markdown",
   "metadata": {},
   "source": [
    "## Question 1a (5 pts)\n",
    "Using get_training_filename, read the colleges_data_science_programs.csv data file into a data frame named raw_ds_programs_text_df.  Print the head of the raw_ds_programs_text_df using Pandas, and the shape using spark."
   ]
  },
  {
   "cell_type": "code",
   "execution_count": 237,
   "metadata": {},
   "outputs": [
    {
     "name": "stdout",
     "output_type": "stream",
     "text": [
      "Head of raw_ds_programs_text_df: Row(id=1, name='South Dakota State University', url='http://www.sdstate.edu/mathstat/grad/masters-in-data-science.cfm', program='Data Science', degree='Masters', country='US', state='SD', online=False, oncampus=True, department='Mathematics and Statistics', created_at='2015-01-10 04:13:13 UTC', updated_at='2015-01-10 04:13:13 UTC', university_count=1, program_size=None, courses=None, admit_reqs=None, year_founded=None, notes=None, cost=None, visualization=None, machine learning=None, business=None, databases=None, programminglanguages=None, capstone=None, mapreduce=None, part-time=None, ethics=None)\n",
      "\n",
      "\n",
      "Shape of raw_ds_programs_text_df: 222 28\n"
     ]
    }
   ],
   "source": [
    "# Your code here\n",
    "\n",
    "from pyspark.sql import SparkSession\n",
    "\n",
    "spark = SparkSession.builder.getOrCreate()\n",
    "sc = spark.sparkContext\n",
    "\n",
    "#read colleges_data_science_programs.csv file into a spark dataframe named raw_ds_programs_text_df\n",
    "raw_ds_programs_text_df = spark.read.csv(get_training_filename('colleges_data_science_programs.csv'), \n",
    "                                         header=True, inferSchema=True)\n",
    "\n",
    "print(\"Head of raw_ds_programs_text_df:\", raw_ds_programs_text_df.head())\n",
    "print(\"\\n\")\n",
    "print(\"Shape of raw_ds_programs_text_df:\", raw_ds_programs_text_df.count(), \n",
    "      len(raw_ds_programs_text_df.columns)) \n",
    "\n",
    "#get_training_filename(raw_ds_programs_text_df)\n",
    "#raw_ds_programs_text_df.show()"
   ]
  },
  {
   "cell_type": "markdown",
   "metadata": {},
   "source": [
    "##### Grading Feedback Cell"
   ]
  },
  {
   "cell_type": "markdown",
   "metadata": {},
   "source": [
    "## Question 1b (5 pts)\n",
    "Starting with `raw_ds_programs_text_df`, create a new dataframe named`ds_programs_text_df` which simply adds a column `text` to the dataframe `raw_ds_programs_df`. This column will have the concatenation of the following columns separated by a space: `program`, `degree` and `department` (find the appropriate function in the `fn` package). <br>\n",
    "\n",
    "An example of the `ds_programs_text_df` should give you:\n",
    "\n",
    "```python\n",
    "ds_programs_text_df.orderBy('id').first().text\n",
    "```\n",
    "\n",
    "```console\n",
    "'Data Science Masters Mathematics and Statistics'\n",
    "```\n",
    "<br>\n",
    "- Print the head of the raw_ds_programs_text_df using Pandas, and the shape using spark.<br>\n",
    "- Print the text column in the first row of the ds_programs_text_df."
   ]
  },
  {
   "cell_type": "code",
   "execution_count": 238,
   "metadata": {
    "deletable": false,
    "nbgrader": {
     "checksum": "cb982914cbab5d8d552cafcab8a6f41b",
     "grade": false,
     "grade_id": "cell-18ebd4f77c37a8e3",
     "locked": false,
     "schema_version": 1,
     "solution": true
    }
   },
   "outputs": [
    {
     "name": "stdout",
     "output_type": "stream",
     "text": [
      "Head of ds_programs_text_df: Row(id=1, name='South Dakota State University', url='http://www.sdstate.edu/mathstat/grad/masters-in-data-science.cfm', program='Data Science', degree='Masters', country='US', state='SD', online=False, oncampus=True, department='Mathematics and Statistics', created_at='2015-01-10 04:13:13 UTC', updated_at='2015-01-10 04:13:13 UTC', university_count=1, program_size=None, courses=None, admit_reqs=None, year_founded=None, notes=None, cost=None, visualization=None, machine learning=None, business=None, databases=None, programminglanguages=None, capstone=None, mapreduce=None, part-time=None, ethics=None, text='Data Science Masters Mathematics and Statistics')\n",
      "\n",
      "\n",
      "Shape of ds_programs_text_df: 222 28\n",
      "\n",
      "\n"
     ]
    },
    {
     "data": {
      "text/plain": [
       "Row(text='Data Science Masters Mathematics and Statistics', id=1, name='South Dakota State University', url='http://www.sdstate.edu/mathstat/grad/masters-in-data-science.cfm', program='Data Science', degree='Masters', country='US', state='SD', online=False, oncampus=True, department='Mathematics and Statistics', created_at='2015-01-10 04:13:13 UTC', updated_at='2015-01-10 04:13:13 UTC', university_count=1, program_size=None, courses=None, admit_reqs=None, year_founded=None, notes=None, cost=None, visualization=None, machine learning=None, business=None, databases=None, programminglanguages=None, capstone=None, mapreduce=None, part-time=None, ethics=None)"
      ]
     },
     "execution_count": 238,
     "metadata": {},
     "output_type": "execute_result"
    }
   ],
   "source": [
    "# Your code here\n",
    "\n",
    "from pyspark.sql.functions import col, concat, lit\n",
    "from pyspark.sql import functions as sf\n",
    "\n",
    "\n",
    "ds_programs_text_df = raw_ds_programs_text_df.withColumn(\"text\", \n",
    "                    sf.concat(raw_ds_programs_text_df.program, sf.lit(\" \"), \n",
    "                              raw_ds_programs_text_df.degree, sf.lit(\" \"), \n",
    "                              raw_ds_programs_text_df.department))\n",
    "\n",
    "ds_programs_text_df.orderBy('id').first().text\n",
    "\n",
    "\n",
    "#head of the raw_ds_programs_text_df using Pandas and the shape using spark\n",
    "print(\"Head of ds_programs_text_df:\", ds_programs_text_df.head())\n",
    "print(\"\\n\")\n",
    "print(\"Shape of ds_programs_text_df:\", ds_programs_text_df.count(), len(raw_ds_programs_text_df.columns)) \n",
    "print(\"\\n\")\n",
    "\n",
    "\n",
    "#text column in the first row of the ds_programs_text_df.\n",
    "ds_programs_text_df = ds_programs_text_df.select(\"text\",\"id\",\"name\",\"url\",\"program\",\"degree\",\"country\",\"state\",\n",
    "                                                 \"online\",\"oncampus\",\"department\",\"created_at\",\"updated_at\",\n",
    "                                                 \"university_count\",\"program_size\",\"courses\",\"admit_reqs\",\n",
    "                                                 \"year_founded\",\"notes\",\"cost\",\"visualization\",\"machine learning\",\n",
    "                                                 \"business\",\"databases\",\"programminglanguages\",\"capstone\",\n",
    "                                                 \"mapreduce\",\"part-time\",\"ethics\")\n",
    "ds_programs_text_df.head()"
   ]
  },
  {
   "cell_type": "markdown",
   "metadata": {},
   "source": [
    "##### Grading Feedback Cell"
   ]
  },
  {
   "cell_type": "markdown",
   "metadata": {},
   "source": [
    "# Question 2: (10 pts) "
   ]
  },
  {
   "cell_type": "markdown",
   "metadata": {},
   "source": [
    "## Question 2a (5 pts)\n",
    "Create a pipeline named `pipe_features` that creates a new dataframe `ds_features_df`.  The pipe_features pipeline adds a column `features` to `ds_programs_text_df` that contains the `tfidf` of the `text` column.  Print the head of ds_features_df using Pandas and print the shape using spark."
   ]
  },
  {
   "cell_type": "code",
   "execution_count": 239,
   "metadata": {},
   "outputs": [
    {
     "name": "stdout",
     "output_type": "stream",
     "text": [
      "Row(text='Data Science Masters Mathematics and Statistics', id=1, name='South Dakota State University', url='http://www.sdstate.edu/mathstat/grad/masters-in-data-science.cfm', program='Data Science', degree='Masters', country='US', state='SD', online=False, oncampus=True, department='Mathematics and Statistics', created_at='2015-01-10 04:13:13 UTC', updated_at='2015-01-10 04:13:13 UTC', university_count=1, program_size=None, courses=None, admit_reqs=None, year_founded=None, notes=None, cost=None, visualization=None, machine learning=None, business=None, databases=None, programminglanguages=None, capstone=None, mapreduce=None, part-time=None, ethics=None, features=SparseVector(74, {0: 0.9074, 2: 1.2175, 4: 1.557, 5: 2.6346, 24: 3.6154})) \n",
      "\n",
      "222 30\n"
     ]
    }
   ],
   "source": [
    "from pyspark.ml.feature import StopWordsRemover\n",
    "\n",
    "colNames = ['text']\n",
    "ds_programs_text_df = ds_programs_text_df.na.fill(\" \", colNames)\n",
    "#ds_programs_text_df.select(\"text\").show()\n",
    "\n",
    "import requests\n",
    "stop_words = requests.get('http://ir.dcs.gla.ac.uk/resources/linguistic_utils/stop_words').text.split()\n",
    "\n",
    "tokenizer = feature.RegexTokenizer(minTokenLength=2)\\\n",
    "  .setGaps(False)\\\n",
    "  .setPattern(\"\\\\p{L}+\")\\\n",
    "  .setInputCol(\"text\")\\\n",
    "  .setOutputCol(\"words\")\n",
    "\n",
    "sw_filter = feature.StopWordsRemover()\\\n",
    "  .setStopWords(stop_words)\\\n",
    "  .setCaseSensitive(False)\\\n",
    "  .setInputCol(\"words\")\\\n",
    "  .setOutputCol(\"filtered\")\n",
    "\n",
    "cv = CountVectorizer(inputCol='filtered', outputCol='tf')\n",
    "\n",
    "idf = IDF().\\\n",
    "    setInputCol(\"tf\").\\\n",
    "    setOutputCol(\"features\")\n",
    "\n",
    "pipe_features = Pipeline(stages=[tokenizer,sw_filter,cv,idf]).fit(ds_programs_text_df)\n",
    "lv=len(pipe_features.stages[2].vocabulary)\n",
    "#print(lv)\n",
    "ds_features_df = pipe_features.transform(ds_programs_text_df)\n",
    "ds_features_df = ds_features_df.drop('words')\n",
    "ds_features_df = ds_features_df.drop('filtered')\n",
    "ds_features_df = ds_features_df.drop('tf')\n",
    "ds_features_dfCOPY = ds_features_df\n",
    "print(ds_features_df.head(),\"\\n\")\n",
    "print(ds_features_df.count(), len(ds_features_df.columns))"
   ]
  },
  {
   "cell_type": "code",
   "execution_count": 240,
   "metadata": {
    "nbgrader": {
     "checksum": "2cb3933b05c489ba7cadcdc1a3abc02d",
     "grade": false,
     "grade_id": "cell-8d401e50a125c6f3",
     "locked": true,
     "schema_version": 1,
     "solution": false
    }
   },
   "outputs": [
    {
     "name": "stdout",
     "output_type": "stream",
     "text": [
      "+--------------------+\n",
      "|                text|\n",
      "+--------------------+\n",
      "|Data Science Mast...|\n",
      "|Analytics Masters...|\n",
      "|Data Science Mast...|\n",
      "|Business Intellig...|\n",
      "|Advanced Computer...|\n",
      "|Business Data Ana...|\n",
      "|Data Mining Maste...|\n",
      "|                    |\n",
      "|Business Analytic...|\n",
      "|Data Analytics Ba...|\n",
      "|Data Science Bach...|\n",
      "|Data Analysis and...|\n",
      "|Data Science Mast...|\n",
      "|                    |\n",
      "|Information Quali...|\n",
      "|                    |\n",
      "|Business Analytic...|\n",
      "|Big Data Analytic...|\n",
      "|Data Science Mast...|\n",
      "|Data Analysis Cer...|\n",
      "+--------------------+\n",
      "only showing top 20 rows\n",
      "\n",
      "Head of ds_features_df: Row(text='Data Science Masters Mathematics and Statistics', id=1, name='South Dakota State University', url='http://www.sdstate.edu/mathstat/grad/masters-in-data-science.cfm', program='Data Science', degree='Masters', country='US', state='SD', online=False, oncampus=True, department='Mathematics and Statistics', created_at='2015-01-10 04:13:13 UTC', updated_at='2015-01-10 04:13:13 UTC', university_count=1, program_size=None, courses=None, admit_reqs=None, year_founded=None, notes=None, cost=None, visualization=None, machine learning=None, business=None, databases=None, programminglanguages=None, capstone=None, mapreduce=None, part-time=None, ethics=None, features=SparseVector(74, {0: 0.9074, 2: 1.2175, 4: 1.557, 5: 2.6346, 24: 3.6154}))\n",
      "\n",
      "\n",
      "Shape of ds_features_df: 222 30\n"
     ]
    }
   ],
   "source": [
    "# Create ds_programs_text_df here\n",
    "\n",
    "from pyspark.ml import Pipeline\n",
    "\n",
    "\n",
    "colNames = [\"text\"]\n",
    "ds_programs_text_df = ds_programs_text_df.na.fill(\" \", colNames)\n",
    "ds_programs_text_df.select(\"text\").show()\n",
    "\n",
    "\n",
    "import requests\n",
    "stop_words = requests.get(\"http://ir.dcs.gla.ac.uk/resources/linguistic_utils/stop_words\").text.split()\n",
    "\n",
    "\n",
    "from pyspark.ml.feature import Tokenizer\n",
    "tokenizer = feature.RegexTokenizer(minTokenLength = 2).setGaps(False).setPattern(\"\\\\p{L}+\")\\\n",
    "  .setInputCol(\"text\").setOutputCol(\"words\")\n",
    "\n",
    "\n",
    "from pyspark.ml.feature import StopWordsRemover\n",
    "sw_filter = feature.StopWordsRemover().setStopWords(stop_words).setCaseSensitive(False)\\\n",
    "  .setInputCol(\"words\")\\\n",
    "  .setOutputCol(\"filtered\")\n",
    "\n",
    "\n",
    "from pyspark.ml.feature import CountVectorizer\n",
    "cv = CountVectorizer(inputCol = \"filtered\", outputCol = \"tf\")\n",
    "\n",
    "from pyspark.ml.feature import IDF\n",
    "idf = IDF().\\\n",
    "    setInputCol(\"tf\").\\\n",
    "    setOutputCol(\"features\")\n",
    "\n",
    "\n",
    "pipe_features = Pipeline(stages = [tokenizer,sw_filter,cv,idf]).fit(ds_programs_text_df)\n",
    "lv  = len(pipe_features.stages[2].vocabulary)\n",
    "ds_features_df = pipe_features.transform(ds_programs_text_df)\n",
    "ds_features_df = ds_features_df.drop(\"words\")\n",
    "ds_features_df = ds_features_df.drop(\"filtered\")\n",
    "ds_features_df = ds_features_df.drop(\"tf\")\n",
    "\n",
    "\n",
    "print(\"Head of ds_features_df:\", ds_features_df.head())\n",
    "print(\"\\n\")\n",
    "print(\"Shape of ds_features_df:\", ds_features_df.count(), len(ds_features_df.columns))"
   ]
  },
  {
   "cell_type": "markdown",
   "metadata": {},
   "source": [
    "##### Grading Feedback Cell"
   ]
  },
  {
   "cell_type": "markdown",
   "metadata": {},
   "source": [
    "## Question 2b (5 pts)\n",
    "Create a pipeline model `pipe_pca` that computes the two first principal components of the `features` column as computed by `pipe_features` and creates a column named `scores`. Use that pipeline to create a dataframe `ds_features_df` with the columns `id`, `name`, `url`, and `scores`."
   ]
  },
  {
   "cell_type": "code",
   "execution_count": 241,
   "metadata": {
    "deletable": false,
    "nbgrader": {
     "checksum": "fe5246f975004002ec6318349b882137",
     "grade": false,
     "grade_id": "cell-cab09e882ef8f6d1",
     "locked": false,
     "schema_version": 1,
     "solution": true
    }
   },
   "outputs": [
    {
     "name": "stdout",
     "output_type": "stream",
     "text": [
      "+---+--------------------+--------------------+--------------------+\n",
      "| id|                name|                 url|              scores|\n",
      "+---+--------------------+--------------------+--------------------+\n",
      "|  1|South Dakota Stat...|http://www.sdstat...|[0.44881393014400...|\n",
      "|  2|Dakota State Univ...|http://www.dsu.ed...|[0.04058844980359...|\n",
      "|  3|    Lewis University|http://www.lewisu...|[0.43123911934213...|\n",
      "|  4|Saint Joseph's Un...|http://online.sju...|[-2.0129279356335...|\n",
      "|  5| University Of Leeds|http://www.engine...|[0.33037145178837...|\n",
      "|  6|Arizona State Uni...|http://wpcarey.as...|[0.01114555780571...|\n",
      "|  7|University Of Cen...|http://dms.stat.u...|[0.24280458521947...|\n",
      "|  8|Hong Kong Univers...|http://www.rmbi.u...|[0.18101923993270...|\n",
      "|  9|University of Tex...|https://jindal.ut...|[-0.0224643447871...|\n",
      "| 10|The Ohio State Un...|https://data-anal...|[0.28773729250365...|\n",
      "| 11|University of Roc...|http://www.roches...|[0.52787043598141...|\n",
      "| 12|         TU Dortmund|http://www.statis...|[0.39033689661946...|\n",
      "| 13|         TU Dortmund|http://www.statis...|[0.40252193790240...|\n",
      "| 14|Maastricht Univer...|http://www.maastr...|[0.18101923993270...|\n",
      "| 15|University of Ark...|http://ualr.edu/i...|[0.51989680685825...|\n",
      "| 16|Worcester Polytec...|http://www.wpi.ed...|[0.18101923993270...|\n",
      "| 17|University Of Col...|http://leeds.colo...|[-0.0997447603137...|\n",
      "| 18|Colorado Technica...|http://www.colora...|[0.47968531133948...|\n",
      "| 19|    Elmhurst College|http://public.elm...|[0.36018688339871...|\n",
      "| 20|University of the...|http://www.ufv.ca...|[-0.2804470058014...|\n",
      "+---+--------------------+--------------------+--------------------+\n",
      "only showing top 20 rows\n",
      "\n"
     ]
    }
   ],
   "source": [
    "# create ds_features_df here\n",
    "\n",
    "from pyspark.ml import clustering\n",
    "\n",
    "\n",
    "pipe_pca = Pipeline(stages = [feature.StandardScaler(withMean = True, inputCol = \"features\", \n",
    "                                                     outputCol = \"zfeatures\"),feature.PCA(k = 10, \n",
    "                                                                                          inputCol = \"zfeatures\", \n",
    "                                                                                          outputCol = \"scores\")])\\\n",
    ".fit(ds_features_df)\n",
    "\n",
    "\n",
    "pipe_pca.transform(ds_features_df).select(\"id\", \"name\", \"url\", \"scores\").show()"
   ]
  },
  {
   "cell_type": "markdown",
   "metadata": {},
   "source": [
    "##### Grading Feedback Cell"
   ]
  },
  {
   "cell_type": "markdown",
   "metadata": {},
   "source": [
    "# Question 3: (10 pts)\n",
    "\n",
    "Create a scatter plot with the x axis containing the first principal component (loading) and the y axis containing the second principal component (loading) of `ds_features_df`"
   ]
  },
  {
   "cell_type": "code",
   "execution_count": 242,
   "metadata": {
    "deletable": false,
    "nbgrader": {
     "checksum": "25f8bfc0359ff722d557a39233e1bfe2",
     "grade": true,
     "grade_id": "cell-cfe761874325794d",
     "locked": false,
     "points": 10,
     "schema_version": 1,
     "solution": true
    },
    "scrolled": false
   },
   "outputs": [
    {
     "data": {
      "image/png": "[encoded data removed]",
      "text/plain": [
       "<Figure size 360x360 with 1 Axes>"
      ]
     },
     "metadata": {
      "needs_background": "light"
     },
     "output_type": "display_data"
    }
   ],
   "source": [
    "# Your code here\n",
    "\n",
    "import matplotlib.pyplot as plt\n",
    "\n",
    "loading = pipe_pca.stages[-1]\n",
    "pc1 = loading.pc.toArray()[:, 0].tolist()\n",
    "pc2 = loading.pc.toArray()[:, 1].tolist()\n",
    "\n",
    "fig, ax = plt.subplots()\n",
    "fig.set_figheight(5)\n",
    "fig.set_figwidth(5)\n",
    "ax.scatter(pc1, pc2)\n",
    "\n",
    "fig.suptitle(\"Scatter Plot of first PC vs. second PC of ds_features_df \")\n",
    "ax.set_xlabel(\"First pc of ds_features_df\")\n",
    "ax.set_ylabel(\"Second pc of ds_features_df\")\n",
    "display()"
   ]
  },
  {
   "cell_type": "markdown",
   "metadata": {},
   "source": [
    "##### Grading Feedback Cell"
   ]
  },
  {
   "cell_type": "markdown",
   "metadata": {},
   "source": [
    "# Question 4 (10 pts)\n",
    "\n",
    "Create two Pandas dataframes `pc1_pd` and `pc2_pd` with the columns `word` and `abs_loading` that contain the top 5 words and absolute loadings for the principal components 1 and 2, respetively.  Print both dataframes. Interpret the loadings."
   ]
  },
  {
   "cell_type": "code",
   "execution_count": 244,
   "metadata": {
    "deletable": false,
    "nbgrader": {
     "checksum": "21ba70a5a4393b6c5f5d5ce14bca6f26",
     "grade": false,
     "grade_id": "cell-f9d1641edcc927e5",
     "locked": false,
     "schema_version": 1,
     "solution": true
    }
   },
   "outputs": [
    {
     "ename": "AttributeError",
     "evalue": "'StopWordsRemover' object has no attribute 'vocabulary'",
     "output_type": "error",
     "traceback": [
      "\u001b[0;31m---------------------------------------------------------------------------\u001b[0m",
      "\u001b[0;31mAttributeError\u001b[0m                            Traceback (most recent call last)",
      "\u001b[0;32m<ipython-input-244-59096c08e0a6>\u001b[0m in \u001b[0;36m<module>\u001b[0;34m\u001b[0m\n\u001b[1;32m      4\u001b[0m \u001b[0;32mimport\u001b[0m \u001b[0mpandas\u001b[0m \u001b[0;32mas\u001b[0m \u001b[0mpd\u001b[0m\u001b[0;34m\u001b[0m\u001b[0;34m\u001b[0m\u001b[0m\n\u001b[1;32m      5\u001b[0m \u001b[0;34m\u001b[0m\u001b[0m\n\u001b[0;32m----> 6\u001b[0;31m \u001b[0mvocabulary\u001b[0m \u001b[0;34m=\u001b[0m \u001b[0mpipe_features\u001b[0m\u001b[0;34m.\u001b[0m\u001b[0mstages\u001b[0m\u001b[0;34m[\u001b[0m\u001b[0;36m1\u001b[0m\u001b[0;34m]\u001b[0m\u001b[0;34m.\u001b[0m\u001b[0mvocabulary\u001b[0m\u001b[0;34m\u001b[0m\u001b[0;34m\u001b[0m\u001b[0m\n\u001b[0m\u001b[1;32m      7\u001b[0m \u001b[0;34m\u001b[0m\u001b[0m\n\u001b[1;32m      8\u001b[0m \u001b[0;34m\u001b[0m\u001b[0m\n",
      "\u001b[0;31mAttributeError\u001b[0m: 'StopWordsRemover' object has no attribute 'vocabulary'"
     ]
    }
   ],
   "source": [
    "# your code here (5 pts)\n",
    "\n",
    "import numpy as np\n",
    "import pandas as pd\n",
    "\n",
    "vocabulary = pipe_features.stages[1].vocabulary\n",
    "\n",
    "\n",
    "for i in range(len(pc1)):\n",
    " pc1[i] = abs(pc1[i])\n",
    "for i in range(len(pc2)):\n",
    " pc2[i] = abs(pc2[i])\n",
    "\n",
    "\n",
    "pc1_pd = pd.DataFrame([vocabulary, pc1]).T.rename(columns = {0: \"word\", \n",
    "                                                             1: \"abs_loading\"})\n",
    "pc1_pd.sort_values(\"abs_loading\",ascending = False).\\\n",
    "    apply({\"word\": lambda x: x, \"abs_loading\": np.abs}, axis = 0).\\\n",
    "    head(5)"
   ]
  },
  {
   "cell_type": "code",
   "execution_count": 245,
   "metadata": {},
   "outputs": [
    {
     "data": {
      "text/html": [
       "<div>\n",
       "<style scoped>\n",
       "    .dataframe tbody tr th:only-of-type {\n",
       "        vertical-align: middle;\n",
       "    }\n",
       "\n",
       "    .dataframe tbody tr th {\n",
       "        vertical-align: top;\n",
       "    }\n",
       "\n",
       "    .dataframe thead th {\n",
       "        text-align: right;\n",
       "    }\n",
       "</style>\n",
       "<table border=\"1\" class=\"dataframe\">\n",
       "  <thead>\n",
       "    <tr style=\"text-align: right;\">\n",
       "      <th></th>\n",
       "      <th>word</th>\n",
       "      <th>abs_loading</th>\n",
       "    </tr>\n",
       "  </thead>\n",
       "  <tbody>\n",
       "    <tr>\n",
       "      <td>47</td>\n",
       "      <td>development</td>\n",
       "      <td>0.427607</td>\n",
       "    </tr>\n",
       "    <tr>\n",
       "      <td>41</td>\n",
       "      <td>center</td>\n",
       "      <td>0.427607</td>\n",
       "    </tr>\n",
       "    <tr>\n",
       "      <td>59</td>\n",
       "      <td>sets</td>\n",
       "      <td>0.352921</td>\n",
       "    </tr>\n",
       "    <tr>\n",
       "      <td>73</td>\n",
       "      <td>massive</td>\n",
       "      <td>0.352921</td>\n",
       "    </tr>\n",
       "    <tr>\n",
       "      <td>18</td>\n",
       "      <td>professional</td>\n",
       "      <td>0.329003</td>\n",
       "    </tr>\n",
       "  </tbody>\n",
       "</table>\n",
       "</div>"
      ],
      "text/plain": [
       "            word abs_loading\n",
       "47   development    0.427607\n",
       "41        center    0.427607\n",
       "59          sets    0.352921\n",
       "73       massive    0.352921\n",
       "18  professional    0.329003"
      ]
     },
     "execution_count": 245,
     "metadata": {},
     "output_type": "execute_result"
    }
   ],
   "source": [
    "pc2_pd = pd.DataFrame([vocabulary, pc2]).T.rename(columns = {0: \"word\", \n",
    "                                                          1: \"abs_loading\"})\n",
    "pc2_pd.sort_values(\"abs_loading\",ascending = False).\\\n",
    "                    apply({\"word\": lambda x: x, \"abs_loading\": np.abs}, axis = 0).\\\n",
    "                    head(5)"
   ]
  },
  {
   "cell_type": "markdown",
   "metadata": {},
   "source": [
    "##### Grading Feedback Cell"
   ]
  },
  {
   "cell_type": "markdown",
   "metadata": {},
   "source": [
    "Your interpretation here (5 pts): \n",
    "\n",
    "We have taken absolute values of the loadings and hence large values of the loadings indicate that a variable has a strong effect on that principal component. Also, positive loadings indicate a variable and principal component are positively correlated and if the values are negative, it means they are negative correlated."
   ]
  },
  {
   "cell_type": "markdown",
   "metadata": {},
   "source": [
    "##### Grading Feedback Cell"
   ]
  },
  {
   "cell_type": "markdown",
   "metadata": {},
   "source": [
    "# Question 5: (10 pts)\n",
    "\n",
    "Create a new pipeline for PCA called `pipe_pca2` where you fit 50 principal components. Extract the `PCAModel` from the stages of this pipeline, and assign to a variable named `explainedVariance` which represents the variance explained by components of the model. Finally, assign to a variable named `best_k` the value $k$ such that ($k+1$)-th component is not able to explain more than 0.01 variance. You can use a for-loop to find such best k.  The value best_k should be be 0 based - in other words present best_k assuming that you started counting at 0."
   ]
  },
  {
   "cell_type": "code",
   "execution_count": 246,
   "metadata": {
    "deletable": false,
    "nbgrader": {
     "checksum": "8f1eb781acb7a61a4176067666602247",
     "grade": false,
     "grade_id": "cell-3c9669871f98d13c",
     "locked": false,
     "schema_version": 1,
     "solution": true
    }
   },
   "outputs": [
    {
     "data": {
      "text/plain": [
       "26"
      ]
     },
     "execution_count": 246,
     "metadata": {},
     "output_type": "execute_result"
    }
   ],
   "source": [
    "# your code here\n",
    "\n",
    "pipe_pca2 = Pipeline(stages = [feature.StandardScaler(withMean = True, withStd = False, \n",
    "                                                      inputCol = \"features\", outputCol = \"zfeatures\"),\n",
    "                               feature.PCA(k = 50, inputCol = \"zfeatures\", outputCol = \"scores\")\n",
    "]).fit(ds_features_df)\n",
    "\n",
    "\n",
    "explainedVariance = pipe_pca2.stages[-1].explainedVariance\n",
    "for i in range(0, len(explainedVariance)):\n",
    "  if explainedVariance[i] < 0.01:\n",
    "    best_k = i - 1\n",
    "    break\n",
    "    \n",
    "best_k"
   ]
  },
  {
   "cell_type": "markdown",
   "metadata": {},
   "source": [
    "##### Grading Feedback Cell"
   ]
  },
  {
   "cell_type": "markdown",
   "metadata": {},
   "source": [
    "# Question 6: (10 pts)\n",
    "\n",
    "Create a new pipeline for PCA called pipe_pca3 (similar to pipe_pca2 above) where you fit the maximum possible number of principal components for this dataset. Create a scree plot and a plot of cumulative variance explained."
   ]
  },
  {
   "cell_type": "code",
   "execution_count": 249,
   "metadata": {
    "scrolled": true
   },
   "outputs": [
    {
     "data": {
      "image/png": "[encoded data removed]",
      "text/plain": [
       "<Figure size 432x288 with 1 Axes>"
      ]
     },
     "metadata": {
      "needs_background": "light"
     },
     "output_type": "display_data"
    },
    {
     "data": {
      "image/png": "[encoded data removed]",
      "text/plain": [
       "<Figure size 432x288 with 1 Axes>"
      ]
     },
     "metadata": {
      "needs_background": "light"
     },
     "output_type": "display_data"
    }
   ],
   "source": [
    "# your code here\n",
    "\n",
    "pipe_pca3 = Pipeline(stages = [\n",
    "    feature.VectorAssembler(inputCols = [\"features\"], outputCol = \"xfeatures\"),\n",
    "    feature.StandardScaler(withMean = True,withStd = False, inputCol = \"xfeatures\", outputCol = \"zfeatures\"),\n",
    "    feature.PCA(k = lv, inputCol = \"zfeatures\", outputCol = \"scores\")\n",
    "]).fit(ds_features_df)\n",
    "\n",
    "\n",
    "plt.figure()\n",
    "explained_var = pipe_pca3.stages[-1].explainedVariance\n",
    "plt.plot(np.arange(1, len(explained_var) + 1), explained_var)\n",
    "plt.title(\"Scree Plot\")\n",
    "plt.xlabel(\"Principal Component\")\n",
    "plt.ylabel(\"Proportion Variance Explained\")\n",
    "display()\n",
    "\n",
    "\n",
    "cum_sum = np.cumsum(explained_var)\n",
    "plt.figure()\n",
    "plt.plot(np.arange(1, len(explained_var) + 1), cum_sum)\n",
    "plt.title(\"Plot of cumulative sum of variance explained\")\n",
    "plt.xlabel(\"Cumulative components\")\n",
    "plt.ylabel(\"Cumulative sum of variance explained\")\n",
    "display()"
   ]
  },
  {
   "cell_type": "markdown",
   "metadata": {},
   "source": [
    "##### Grading Feedback Cell"
   ]
  },
  {
   "cell_type": "markdown",
   "metadata": {},
   "source": [
    "# Question 7: (10 pts)\n",
    "Create a pipeline named pipe_pca4 (similar to pipe_pca3 above) that computes the first 2 principal components.  Add a kmeans objects to the end of pipe_pca4 and compute kmeans with k = 5.  Create a scatter plot PC2 vs. PC1 where each scatter dot is colored by the cluster assignment.  Include a plot legend."
   ]
  },
  {
   "cell_type": "code",
   "execution_count": 253,
   "metadata": {},
   "outputs": [
    {
     "name": "stdout",
     "output_type": "stream",
     "text": [
      "Length of pc1: 222 \n",
      "\n",
      "Length of pc2: 222 \n",
      "\n",
      "Length of kmeans_feat: 222\n"
     ]
    },
    {
     "data": {
      "image/png": "[encoded data removed]",
      "text/plain": [
       "<Figure size 432x288 with 1 Axes>"
      ]
     },
     "metadata": {
      "needs_background": "light"
     },
     "output_type": "display_data"
    }
   ],
   "source": [
    "# your code here\n",
    "\n",
    "from pyspark.ml import clustering\n",
    "\n",
    "\n",
    "pipe_pca4 = Pipeline(stages = [\n",
    "    feature.VectorAssembler(inputCols = [\"features\"], outputCol = \"xfeatures\"),\n",
    "    feature.StandardScaler(withMean = True, withStd = False, inputCol = \"xfeatures\", outputCol = \"zfeatures\"),\n",
    "    feature.PCA(k = 2, inputCol = \"zfeatures\", outputCol = \"scores\")\n",
    "]).fit(ds_features_df)\n",
    "\n",
    "\n",
    "norm = feature.Normalizer(inputCol = \"scores\", outputCol = \"norm_tfidf\", p = 2.0)\n",
    "kmeans = clustering.KMeans(k = 5, featuresCol = \"norm_tfidf\", predictionCol = \"kmeans_feat\")\n",
    "\n",
    "\n",
    "pipeline = Pipeline(stages = [pipe_pca4,norm,kmeans]).fit(ds_features_df)\n",
    "df = pipeline.transform(ds_features_df)\n",
    "\n",
    "\n",
    "import pandas as pd\n",
    "import seaborn as sns\n",
    "\n",
    "\n",
    "pc1 = df.select(\"scores\").rdd.map(lambda x:x[\"scores\"][0]).collect()\n",
    "pc2 = df.select(\"scores\").rdd.map(lambda x:x[\"scores\"][1]).collect()\n",
    "kmeans_feat = df.select(\"kmeans_feat\").rdd.map(lambda x:x[\"kmeans_feat\"]).collect()\n",
    "print(\"Length of pc1:\", len(pc1),\"\\n\")\n",
    "print(\"Length of pc2:\", len(pc2),\"\\n\")\n",
    "print(\"Length of kmeans_feat:\", len(kmeans_feat))\n",
    "\n",
    "sns.scatterplot(x = pc1, y = pc2, hue = kmeans_feat).set(title = \"Scatterplot PC2 vs. PC1\", \n",
    "                                                         xlabel = \"PC1\", ylabel = \"PC2\")\n",
    "\n",
    "display()"
   ]
  },
  {
   "cell_type": "markdown",
   "metadata": {},
   "source": [
    "##### Grading Feedback Cell"
   ]
  },
  {
   "cell_type": "markdown",
   "metadata": {},
   "source": [
    "# Question 8: (10 pts)\n",
    "Starting with pipe_pca2, transform the pipeline and save the resulting dataframe to a variable named `pca_fun`.  Extract the output from the standard scaler column from the first row of pca_fun and store in a variable called `z`. Manually compute 10 PCA scores by projecting z onto the first 10 loading vectors. Save the 10 projected pca scores in a varialbe called `projection`.  Extract the first 10 PCA scores from the first row of pca_fun and save them in a variable named `model_scores`.  Print `projection` and `model_scores`.  Compare `projection` to `model_scores` and explain why they are the same or different. "
   ]
  },
  {
   "cell_type": "code",
   "execution_count": 255,
   "metadata": {},
   "outputs": [
    {
     "name": "stdout",
     "output_type": "stream",
     "text": [
      "[ 0.32993785 -1.74035675 -0.37987178  0.61158753 -0.78136264  2.07099227\n",
      " -1.00953816  0.10879115 -0.22527308 -0.04399573]\n",
      "[ 0.32993785 -1.74035675 -0.37987178  0.61158753 -0.78136264  2.07099227\n",
      " -1.00953816  0.10879115 -0.22527308 -0.04399573]\n"
     ]
    }
   ],
   "source": [
    "# your code here (5 pts)\n",
    "\n",
    "loadings = pipe_pca2.stages[-1].pc.toArray()\n",
    "\n",
    "\n",
    "pca_fun = pipe_pca2.transform(ds_features_df)\n",
    "\n",
    "\n",
    "z = pca_fun.select(\"zfeatures\").rdd.map(lambda x:x[\"zfeatures\"]).first()\n",
    "\n",
    "\n",
    "projection = z.dot(loadings[:,0:10])\n",
    "print(projection)\n",
    "\n",
    "\n",
    "model_scores = pca_fun.select(\"scores\").first()[\"scores\"][0:10]\n",
    "print(model_scores)"
   ]
  },
  {
   "cell_type": "markdown",
   "metadata": {},
   "source": [
    "##### Grading Feedback Cell"
   ]
  },
  {
   "cell_type": "markdown",
   "metadata": {},
   "source": [
    "Your explanation here (5 pts): \n",
    "\n",
    "The projection and the model_score is the same because projection is the same computation as what we did by tranforming the pipe_pca2. While model_scores is the machine's way of computing the score, projection is the manual way of computing the score."
   ]
  },
  {
   "cell_type": "markdown",
   "metadata": {},
   "source": [
    "##### Grading Feedback Cell"
   ]
  },
  {
   "cell_type": "markdown",
   "metadata": {},
   "source": [
    "# Question 9: (10 pts)\n",
    "Using PCA loading vectors, perform an inverse transform on the `projection` variable and store the result in a variable named inverse.  Print `inverse` and the original `z` data.  Explain why the inverse data is the same as `z` (or really close to `z`), or why it is different than `z`.  "
   ]
  },
  {
   "cell_type": "code",
   "execution_count": 260,
   "metadata": {},
   "outputs": [
    {
     "name": "stdout",
     "output_type": "stream",
     "text": [
      "inverse shape: (74,) \n",
      "\n",
      "inverse: [ 1.71601974e-01 -6.30166202e-01  7.59332549e-01 -1.40339396e-01\n",
      "  9.17673024e-01  2.26670189e+00 -3.46613009e-01  2.13238557e-01\n",
      "  2.79926882e-01 -1.61077030e-01  9.64084816e-02  2.52002137e-01\n",
      " -3.22584880e-01  2.51118846e-01 -1.48384828e-01  2.52488719e-01\n",
      "  3.18509669e-01 -2.27116157e-01 -8.91220952e-02  2.24371938e-01\n",
      " -3.19502899e-01 -5.31949167e-02 -2.45978907e-03  3.16573712e-01\n",
      "  6.04945618e-01 -1.09978165e-01  1.07181173e-01  7.65625855e-01\n",
      " -5.77207028e-02 -1.11922182e-01 -4.16611269e-02 -1.11922182e-01\n",
      " -8.96164881e-02  3.54786267e-03 -4.94591758e-02  2.29526034e-01\n",
      "  2.48984398e-02 -5.68815262e-02  3.49783595e-01 -4.19806972e-02\n",
      " -8.52702851e-04  8.23411429e-04 -3.93769540e-01  6.30576301e-02\n",
      " -8.04143183e-02 -4.75854936e-02  2.29526034e-01  8.23411429e-04\n",
      " -2.74538549e-02 -1.31705789e-02  7.29307491e-02 -1.64393386e-02\n",
      "  2.85782304e-01 -7.26721579e-02 -1.95674902e-02 -5.15898582e-02\n",
      "  1.49644680e-03 -7.51119700e-02 -3.08783679e-02 -5.95546685e-04\n",
      "  1.56379982e-01 -2.63638796e-02 -3.63920010e-02 -2.63638796e-02\n",
      " -2.63638796e-02  1.56379982e-01 -2.74538549e-02 -7.26721579e-02\n",
      " -7.51119700e-02 -1.96884770e-01 -2.63638796e-02  1.03687407e-02\n",
      "  1.42950593e-02 -5.95546685e-04] \n",
      "\n",
      "[0.543599817343561,-0.5260216789696148,0.8226466415092523,-0.36603119145826585,1.1151659594155836,2.4091007161789575,-0.220293739282316,-0.18551051729037135,-0.18551051729037135,-0.17112363325107,-0.17112363325106997,-0.14479692044321307,-0.13555299543521387,-0.13984624677775104,-0.14032141712451915,-0.13013299435637432,-0.12473014855512812,-0.10492843066874764,-0.10492843066874764,-0.10492843066874764,-0.10913887998573711,-0.09771384600627199,-0.0935476114163461,-0.08142820500522666,3.533984097226837,-0.0684276370995679,-0.0684276370995679,-0.05433618122081389,-0.05433618122081389,-0.05433618122081389,-0.05433618122081389,-0.05433618122081389,-0.05433618122081389,-0.05433618122081389,-0.03881585119632441,-0.03881585119632441,-0.03881585119632441,-0.03881585119632441,-0.03881585119632441,-0.03881585119632441,-0.03881585119632441,-0.03881585119632441,-0.04246869000810967,-0.03881585119632441,-0.03881585119632441,-0.03881585119632441,-0.03881585119632441,-0.03881585119632441,-0.021234345004054835,-0.021234345004054835,-0.021234345004054835,-0.021234345004054835,-0.021234345004054835,-0.021234345004054835,-0.021234345004054835,-0.021234345004054835,-0.021234345004054835,-0.021234345004054835,-0.021234345004054835,-0.021234345004054835,-0.021234345004054835,-0.021234345004054835,-0.021234345004054835,-0.021234345004054835,-0.021234345004054835,-0.021234345004054835,-0.021234345004054835,-0.021234345004054835,-0.021234345004054835,-0.021234345004054835,-0.021234345004054835,-0.021234345004054835,-0.021234345004054835,-0.021234345004054835]\n"
     ]
    }
   ],
   "source": [
    "# your code here (5 pts)\n",
    "\n",
    "inverse = loadings[:,:10].dot(projection)\n",
    "\n",
    "\n",
    "print(\"inverse shape:\", inverse.shape,\"\\n\")\n",
    "print(\"inverse:\", inverse,\"\\n\")\n",
    "print(z)"
   ]
  },
  {
   "cell_type": "markdown",
   "metadata": {},
   "source": [
    "##### Grading Feedback Cell"
   ]
  },
  {
   "cell_type": "markdown",
   "metadata": {},
   "source": [
    "Your explanation here (5 pts):\n",
    "\n",
    "The original data is nearly close to the inverse transform since PCA is basically a linear transformation of the data, fundamentally, it's just a rotation. And rotations are invertible transformations."
   ]
  },
  {
   "cell_type": "markdown",
   "metadata": {},
   "source": [
    "##### Grading Feedbck Cell"
   ]
  },
  {
   "cell_type": "markdown",
   "metadata": {},
   "source": [
    "# Question 10: (10 pts)\n",
    "\n",
    "Think about the cumulative variance and the scree plot from the question above.  If you were building a machine learning model, how many principal components would you pick for your model.  Explain why.  "
   ]
  },
  {
   "cell_type": "markdown",
   "metadata": {},
   "source": [
    "Your Answer Here:\n",
    "\n",
    "The scree plot shows how much variance is captured by each PC component. In the scree plot, maximum number of variation is explained by the first 40 components and even in the cumulative variance plot,the cumulative sum of the plot doesn't increase much after 40 PC. \n",
    "I think a model around 40 PCs would be efficient since it would cover most of the variations and give less error."
   ]
  },
  {
   "cell_type": "markdown",
   "metadata": {},
   "source": [
    "##### Grading Feedback Cell"
   ]
  }
 ],
 "metadata": {
  "celltoolbar": "Edit Metadata",
  "kernelspec": {
   "display_name": "Python 3",
   "language": "python",
   "name": "python3"
  },
  "language_info": {
   "codemirror_mode": {
    "name": "ipython",
    "version": 3
   },
   "file_extension": ".py",
   "mimetype": "text/x-python",
   "name": "python",
   "nbconvert_exporter": "python",
   "pygments_lexer": "ipython3",
   "version": "3.8.3"
  }
 },
 "nbformat": 4,
 "nbformat_minor": 2
}
