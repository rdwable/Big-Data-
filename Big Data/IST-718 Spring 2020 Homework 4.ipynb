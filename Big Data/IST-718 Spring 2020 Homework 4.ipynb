{
 "cells": [
  {
   "cell_type": "markdown",
   "metadata": {},
   "source": [
    "### Grading Feedback"
   ]
  },
  {
   "cell_type": "markdown",
   "metadata": {},
   "source": [
    "# IST 718: Big Data Analytics\n",
    "\n",
    "- Professor: Willard Williamson <wewillia@syr.edu>\n",
    "- Faculty Assistant: Yash Pasar <yspasar@syr.edu>\n",
    "## General instructions:\n",
    "\n",
    "- You are welcome to discuss the problems with your classmates but __you are not allowed to copy any part of your answers from your classmates.  Short code snippets are allowed from the internet.  Code from the class text books or class provided code can be copied in its entirety.__\n",
    "- There could be tests in some cells (i.e., `assert` and `np.testing.` statements). These tests (if present) are used to grade your answers. **However, the professor and FAs could use __additional__ test for your answer. Think about cases where your code should run even if it passess all the tests you see.**\n",
    "- Before submitting your work, remember to check for run time errors with the following procedure:\n",
    "`Kernel`$\\rightarrow$`Restart and Run All`.  All runtime errors will result in a minimum penalty of half off.\n",
    "- Data Bricks is the official class runtime environment so you should test your code on Data Bricks before submission.  If there is a runtime problem in the grading environment, we will try your code on Data Bricks before making a final grading decision.\n",
    "- All plots shall include a title, and axis labels.\n",
    "- Grading feedback cells are there for graders to provide feedback to students.  Don't change or remove grading feedback cells.\n",
    "- Don't add or remove files from your git repo.\n",
    "- Do not change file names in your repo.  This also means don't change the title of the ipython notebook.\n",
    "- You are free to add additional code cells around the cells marked `your code here`.\n",
    "- Students may use toPandas() to print the head of data frames.\n",
    "- __Only use spark, spark machine learning, spark data frames, RDD's, and map reduce to solve all problems unless instructed otherwise.__"
   ]
  },
  {
   "cell_type": "code",
   "execution_count": 214,
   "metadata": {},
   "outputs": [],
   "source": [
    "# Do not delete or change this cell\n",
    "\n",
    "import os\n",
    "\n",
    "# Define a function to determine if we are running on data bricks\n",
    "# Return true if running in the data bricks environment, false otherwise\n",
    "def is_databricks():\n",
    "    # get the databricks runtime version\n",
    "    db_env = os.getenv(\"DATABRICKS_RUNTIME_VERSION\")\n",
    "    \n",
    "    # if running on data bricks\n",
    "    if db_env != None:\n",
    "        return True\n",
    "    else:\n",
    "        return False\n",
    "\n",
    "# Define a function to read the data file.  The full path data file name is constructed\n",
    "# by checking runtime environment variables to determine if the runtime environment is \n",
    "# databricks, or a student's personal computer.  The full path file name is then\n",
    "# constructed based on the runtime env.\n",
    "# \n",
    "# Params\n",
    "#   data_file_name: The base name of the data file to load\n",
    "# \n",
    "# Returns the full path file name based on the runtime env\n",
    "#\n",
    "def get_training_filename(data_file_name):    \n",
    "    # if running on data bricks\n",
    "    if is_databricks():\n",
    "        # build the full path file name assuming data brick env\n",
    "        full_path_name = \"/FileStore/tables/%s\" % data_file_name\n",
    "    # else the data is assumed to be in the same dir as this notebook\n",
    "    else:\n",
    "        # Assume the student is running on their own computer and load the data\n",
    "        # file from the same dir as this notebook\n",
    "        full_path_name = data_file_name\n",
    "    \n",
    "    # return the full path file name to the caller\n",
    "    return full_path_name"
   ]
  },
  {
   "cell_type": "markdown",
   "metadata": {},
   "source": [
    "# Question 1\n",
    "Using the get_training_filename function defined in the cell above, read the sms_spam.csv file into a spark dataframe named spam_df.  There should be no empty columns in spam_df."
   ]
  },
  {
   "cell_type": "code",
   "execution_count": 215,
   "metadata": {},
   "outputs": [
    {
     "name": "stdout",
     "output_type": "stream",
     "text": [
      "+----+--------------------+\n",
      "|type|                text|\n",
      "+----+--------------------+\n",
      "| ham|Go until jurong p...|\n",
      "| ham|Ok lar... Joking ...|\n",
      "|spam|Free entry in 2 a...|\n",
      "| ham|U dun say so earl...|\n",
      "| ham|Nah I don't think...|\n",
      "|spam|FreeMsg Hey there...|\n",
      "| ham|Even my brother i...|\n",
      "| ham|As per your reque...|\n",
      "|spam|WINNER!! As a val...|\n",
      "|spam|Had your mobile 1...|\n",
      "| ham|I'm gonna be home...|\n",
      "|spam|SIX chances to wi...|\n",
      "|spam|URGENT! You have ...|\n",
      "| ham|I've been searchi...|\n",
      "| ham|I HAVE A DATE ON ...|\n",
      "|spam|XXXMobileMovieClu...|\n",
      "| ham|Oh k...i'm watchi...|\n",
      "| ham|Eh u remember how...|\n",
      "| ham|Fine if that's th...|\n",
      "|spam|England v Macedon...|\n",
      "+----+--------------------+\n",
      "only showing top 20 rows\n",
      "\n"
     ]
    }
   ],
   "source": [
    "# Your code here\n",
    "\n",
    "from pyspark.sql import SparkSession\n",
    "\n",
    "spark = SparkSession.builder.getOrCreate()\n",
    "sc = spark.sparkContext\n",
    "\n",
    "#read sms_spam.csv file into a spark dataframe named spam_df\n",
    "spam_df = spark.read.csv(get_training_filename('sms_spam.csv'), header=True, inferSchema=True)\n",
    "spam_df.show()"
   ]
  },
  {
   "cell_type": "markdown",
   "metadata": {},
   "source": [
    "### Grading Feedback"
   ]
  },
  {
   "cell_type": "markdown",
   "metadata": {},
   "source": [
    "# Question 2\n",
    "Starting with spam_df, create a new dataframe named spam_df1.  Rename the spam_df type column to be named spam.  In the spam column, replace the string `spam` the with the integer 1 and the string `ham` with the integer 0.  Print the head and shape of spam_df1."
   ]
  },
  {
   "cell_type": "code",
   "execution_count": 216,
   "metadata": {},
   "outputs": [
    {
     "name": "stdout",
     "output_type": "stream",
     "text": [
      "+-----+--------------------+\n",
      "|SPAMM|                text|\n",
      "+-----+--------------------+\n",
      "|  ham|Go until jurong p...|\n",
      "|  ham|Ok lar... Joking ...|\n",
      "| spam|Free entry in 2 a...|\n",
      "|  ham|U dun say so earl...|\n",
      "|  ham|Nah I don't think...|\n",
      "| spam|FreeMsg Hey there...|\n",
      "|  ham|Even my brother i...|\n",
      "|  ham|As per your reque...|\n",
      "| spam|WINNER!! As a val...|\n",
      "| spam|Had your mobile 1...|\n",
      "|  ham|I'm gonna be home...|\n",
      "| spam|SIX chances to wi...|\n",
      "| spam|URGENT! You have ...|\n",
      "|  ham|I've been searchi...|\n",
      "|  ham|I HAVE A DATE ON ...|\n",
      "| spam|XXXMobileMovieClu...|\n",
      "|  ham|Oh k...i'm watchi...|\n",
      "|  ham|Eh u remember how...|\n",
      "|  ham|Fine if that's th...|\n",
      "| spam|England v Macedon...|\n",
      "+-----+--------------------+\n",
      "only showing top 20 rows\n",
      "\n",
      "+----+--------------------+\n",
      "|spam|                text|\n",
      "+----+--------------------+\n",
      "|   0|Go until jurong p...|\n",
      "|   0|Ok lar... Joking ...|\n",
      "|   1|Free entry in 2 a...|\n",
      "|   0|U dun say so earl...|\n",
      "|   0|Nah I don't think...|\n",
      "|   1|FreeMsg Hey there...|\n",
      "|   0|Even my brother i...|\n",
      "|   0|As per your reque...|\n",
      "|   1|WINNER!! As a val...|\n",
      "|   1|Had your mobile 1...|\n",
      "|   0|I'm gonna be home...|\n",
      "|   1|SIX chances to wi...|\n",
      "|   1|URGENT! You have ...|\n",
      "|   0|I've been searchi...|\n",
      "|   0|I HAVE A DATE ON ...|\n",
      "|   1|XXXMobileMovieClu...|\n",
      "|   0|Oh k...i'm watchi...|\n",
      "|   0|Eh u remember how...|\n",
      "|   0|Fine if that's th...|\n",
      "|   1|England v Macedon...|\n",
      "+----+--------------------+\n",
      "only showing top 20 rows\n",
      "\n",
      "Head of spam_df1: Row(spam=0, text='Go until jurong point, crazy.. Available only in bugis n great world la e buffet... Cine there got amore wat...')\n",
      "\n",
      "\n",
      "Shape of spam_df1: 5574 2\n"
     ]
    }
   ],
   "source": [
    "# your code here\n",
    "\n",
    "#create spam_df1 and rename 'type' to 'spam'\n",
    "spam_df1 = spam_df.withColumnRenamed(\"type\", \"SPAMM\") #column name changed to SPAMM to avoid confusion when \n",
    "                                                      #dropping extra columns later                      \n",
    "spam_df1.show()\n",
    "\n",
    "#in spam column, replacing 'spam' with 1 and 'ham' with 0\n",
    "from pyspark.sql import functions as fn\n",
    "    \n",
    "binary = spam_df1.select(\"SPAMM\").distinct().rdd.flatMap(lambda x: x).collect()\n",
    "Expr = [fn.when(fn.col(\"SPAMM\") == spam, 1).otherwise(0).alias(spam) for spam in binary]\n",
    "spam_df1 = spam_df1.select(Expr + spam_df1.columns)\n",
    "#spam_df1.show()\n",
    "\n",
    "#dropping the extra columns\n",
    "spam_df1 = spam_df1.drop(\"ham\")\n",
    "spam_df1 = spam_df1.drop(\"SPAMM\")\n",
    "spam_df1.show()\n",
    "\n",
    "#head and shape of spam_df1\n",
    "print(\"Head of spam_df1:\", spam_df1.head())\n",
    "print(\"\\n\")\n",
    "print(\"Shape of spam_df1:\", spam_df1.count(), len(spam_df1.columns)) "
   ]
  },
  {
   "cell_type": "markdown",
   "metadata": {},
   "source": [
    "# Question 3\n",
    "Starting with spam_df1, create a new dataframe named spam_df2 with a new column named filtered_text by removing stop words from the text column in spam_df.  Print the head and shape of spam_df2."
   ]
  },
  {
   "cell_type": "code",
   "execution_count": 217,
   "metadata": {},
   "outputs": [
    {
     "name": "stdout",
     "output_type": "stream",
     "text": [
      "+----+--------------------+--------------------+--------------------+\n",
      "|spam|                text|     tokenized_words|       filtered_text|\n",
      "+----+--------------------+--------------------+--------------------+\n",
      "|   0|Go until jurong p...|[go, until, juron...|[jurong, point,, ...|\n",
      "|   0|Ok lar... Joking ...|[ok, lar..., joki...|[ok, lar..., joki...|\n",
      "|   1|Free entry in 2 a...|[free, entry, in,...|[free, entry, 2, ...|\n",
      "|   0|U dun say so earl...|[u, dun, say, so,...|[u, dun, say, ear...|\n",
      "|   0|Nah I don't think...|[nah, i, don't, t...|[nah, don't, thin...|\n",
      "|   1|FreeMsg Hey there...|[freemsg, hey, th...|[freemsg, hey, da...|\n",
      "|   0|Even my brother i...|[even, my, brothe...|[brother, like, s...|\n",
      "|   0|As per your reque...|[as, per, your, r...|[request, 'melle,...|\n",
      "|   1|WINNER!! As a val...|[winner!!, as, a,...|[winner!!, valued...|\n",
      "|   1|Had your mobile 1...|[had, your, mobil...|[mobile, 11, mont...|\n",
      "|   0|I'm gonna be home...|[i'm, gonna, be, ...|[i'm, gonna, home...|\n",
      "|   1|SIX chances to wi...|[six, chances, to...|[chances, win, ca...|\n",
      "|   1|URGENT! You have ...|[urgent!, you, ha...|[urgent!, won, 1,...|\n",
      "|   0|I've been searchi...|[i've, been, sear...|[i've, searching,...|\n",
      "|   0|I HAVE A DATE ON ...|[i, have, a, date...|[date, sunday, wi...|\n",
      "|   1|XXXMobileMovieClu...|[xxxmobilemoviecl...|[xxxmobilemoviecl...|\n",
      "|   0|Oh k...i'm watchi...|[oh, k...i'm, wat...|[oh, k...i'm, wat...|\n",
      "|   0|Eh u remember how...|[eh, u, remember,...|[eh, u, remember,...|\n",
      "|   0|Fine if that's th...|[fine, if, that's...|[fine, that's, wa...|\n",
      "|   1|England v Macedon...|[england, v, mace...|[england, v, mace...|\n",
      "+----+--------------------+--------------------+--------------------+\n",
      "only showing top 20 rows\n",
      "\n",
      "Head of spam_df2: Row(spam=0, text='Go until jurong point, crazy.. Available only in bugis n great world la e buffet... Cine there got amore wat...', tokenized_words=['go', 'until', 'jurong', 'point,', 'crazy..', 'available', 'only', 'in', 'bugis', 'n', 'great', 'world', 'la', 'e', 'buffet...', 'cine', 'there', 'got', 'amore', 'wat...'], filtered_text=['jurong', 'point,', 'crazy..', 'available', 'bugis', 'n', 'great', 'world', 'la', 'e', 'buffet...', 'cine', 'got', 'amore', 'wat...'])\n",
      "\n",
      "\n",
      "Shape of spam_df2: 5574 4\n"
     ]
    }
   ],
   "source": [
    "# your code here\n",
    "\n",
    "from pyspark.ml.feature import Tokenizer\n",
    "tokenizer = Tokenizer().setInputCol('text').setOutputCol('tokenized_words')\n",
    "\n",
    "\n",
    "spam_df2 = tokenizer.transform(spam_df1)\n",
    "#spam_df2.show(5)\n",
    "\n",
    "\n",
    "import requests\n",
    "stop_words = requests.get('http://ir.dcs.gla.ac.uk/resources/linguistic_utils/stop_words').text.split()\n",
    "stop_words[0:10]\n",
    "\n",
    "\n",
    "from pyspark.ml.feature import StopWordsRemover\n",
    "sw = StopWordsRemover().setStopWords(stop_words).setCaseSensitive(False).setInputCol(\"tokenized_words\")\\\n",
    "        .setOutputCol(\"filtered_text\")\n",
    "\n",
    "\n",
    "from pyspark.ml import Pipeline\n",
    "sw_pipeline = Pipeline(stages = [tokenizer, sw]).fit(spam_df1)\n",
    "\n",
    "\n",
    "spam_df2 = sw_pipeline.transform(spam_df1)\n",
    "spam_df2.show()\n",
    "\n",
    "\n",
    "#head and shape of spam_df1\n",
    "print(\"Head of spam_df2:\", spam_df2.head())\n",
    "print(\"\\n\")\n",
    "print(\"Shape of spam_df2:\", spam_df2.count(), len(spam_df2.columns)) "
   ]
  },
  {
   "cell_type": "markdown",
   "metadata": {},
   "source": [
    "### Grading Feedback"
   ]
  },
  {
   "cell_type": "markdown",
   "metadata": {},
   "source": [
    "# Question 3\n",
    "Create a new dataframe named spam_df3 starting with spam_df2.  Create a new column named tfidf by performing a term frequency / inverse document frequency transformation on the filtered_text column of spam_df2.<br>  \n",
    "\n",
    "- Print the head and shape of spam_df3.  \n",
    "- Print the top 10 most important words indicated by the TFIDF score.  \n",
    "- Print the 10 least important words as indicated by the TFIDF score.\n",
    "- Print the total number of columns in the TFIDF data in spam_df3\n",
    "- Print the number of rows in the TFIDF data in spam_df3\n",
    "- Based only on the number of rows and columns in the TFIDF data, do you expect the model to overfit.  Explain your answer."
   ]
  },
  {
   "cell_type": "code",
   "execution_count": 218,
   "metadata": {},
   "outputs": [
    {
     "name": "stdout",
     "output_type": "stream",
     "text": [
      "+----+--------------------+--------------------+--------------------+--------------------+--------------------+\n",
      "|spam|                text|     tokenized_words|       filtered_text|                  tf|               tfidf|\n",
      "+----+--------------------+--------------------+--------------------+--------------------+--------------------+\n",
      "|   0|Go until jurong p...|[go, until, juron...|[jurong, point,, ...|(13262,[10,29,56,...|(13262,[10,29,56,...|\n",
      "|   0|Ok lar... Joking ...|[ok, lar..., joki...|[ok, lar..., joki...|(13262,[0,23,268,...|(13262,[0,23,268,...|\n",
      "|   1|Free entry in 2 a...|[free, entry, in,...|[free, entry, 2, ...|(13262,[1,12,18,2...|(13262,[1,12,18,2...|\n",
      "|   0|U dun say so earl...|[u, dun, say, so,...|[u, dun, say, ear...|(13262,[0,64,71,1...|(13262,[0,64,71,1...|\n",
      "|   0|Nah I don't think...|[nah, i, don't, t...|[nah, don't, thin...|(13262,[30,35,279...|(13262,[30,35,279...|\n",
      "|   1|FreeMsg Hey there...|[freemsg, hey, th...|[freemsg, hey, da...|(13262,[9,47,60,1...|(13262,[9,47,60,1...|\n",
      "|   0|Even my brother i...|[even, my, brothe...|[brother, like, s...|(13262,[9,48,220,...|(13262,[9,48,220,...|\n",
      "|   0|As per your reque...|[as, per, your, r...|[request, 'melle,...|(13262,[167,386,8...|(13262,[167,386,8...|\n",
      "|   1|WINNER!! As a val...|[winner!!, as, a,...|[winner!!, valued...|(13262,[42,104,12...|(13262,[42,104,12...|\n",
      "|   1|Had your mobile 1...|[had, your, mobil...|[mobile, 11, mont...|(13262,[0,12,27,3...|(13262,[0,12,27,3...|\n",
      "|   0|I'm gonna be home...|[i'm, gonna, be, ...|[i'm, gonna, home...|(13262,[3,17,30,3...|(13262,[3,17,30,3...|\n",
      "|   1|SIX chances to wi...|[six, chances, to...|[chances, win, ca...|(13262,[7,16,34,8...|(13262,[7,16,34,8...|\n",
      "|   1|URGENT! You have ...|[urgent!, you, ha...|[urgent!, won, 1,...|(13262,[12,28,42,...|(13262,[12,28,42,...|\n",
      "|   0|I've been searchi...|[i've, been, sear...|[i've, searching,...|(13262,[87,88,205...|(13262,[87,88,205...|\n",
      "|   0|I HAVE A DATE ON ...|[i, have, a, date...|[date, sunday, wi...|(13262,[510,1571,...|(13262,[510,1571,...|\n",
      "|   1|XXXMobileMovieClu...|[xxxmobilemoviecl...|[xxxmobilemoviecl...|(13262,[28,98,156...|(13262,[28,98,156...|\n",
      "|   0|Oh k...i'm watchi...|[oh, k...i'm, wat...|[oh, k...i'm, wat...|(13262,[73,192,45...|(13262,[73,192,45...|\n",
      "|   0|Eh u remember how...|[eh, u, remember,...|[eh, u, remember,...|(13262,[0,1,45,11...|(13262,[0,1,45,11...|\n",
      "|   0|Fine if that's th...|[fine, if, that's...|[fine, that's, wa...|(13262,[0,67,94,9...|(13262,[0,67,94,9...|\n",
      "|   1|England v Macedon...|[england, v, mace...|[england, v, mace...|(13262,[4,28,32,5...|(13262,[4,28,32,5...|\n",
      "+----+--------------------+--------------------+--------------------+--------------------+--------------------+\n",
      "only showing top 20 rows\n",
      "\n",
      "Head of spam_df3: Row(spam=0, text='Go until jurong point, crazy.. Available only in bugis n great world la e buffet... Cine there got amore wat...', tokenized_words=['go', 'until', 'jurong', 'point,', 'crazy..', 'available', 'only', 'in', 'bugis', 'n', 'great', 'world', 'la', 'e', 'buffet...', 'cine', 'there', 'got', 'amore', 'wat...'], filtered_text=['jurong', 'point,', 'crazy..', 'available', 'bugis', 'n', 'great', 'world', 'la', 'e', 'buffet...', 'cine', 'got', 'amore', 'wat...'], tf=SparseVector(13262, {10: 1.0, 29: 1.0, 56: 1.0, 63: 1.0, 303: 1.0, 581: 1.0, 722: 1.0, 1337: 1.0, 1797: 1.0, 4348: 1.0, 6309: 1.0, 8525: 1.0, 8670: 1.0, 10034: 1.0, 12820: 1.0}), tfidf=SparseVector(13262, {10: 3.2099, 29: 3.8469, 56: 4.2072, 63: 4.322, 303: 5.4072, 581: 5.918, 722: 6.1411, 1337: 6.6801, 1797: 6.8343, 4348: 7.5274, 6309: 7.9329, 8525: 7.9329, 8670: 7.9329, 10034: 7.9329, 12820: 7.9329}))\n",
      "\n",
      "\n",
      "Shape of spam_df3: 5574 6\n",
      "\n",
      "\n",
      "Top 10 most important words as indicated by the TFIDF score is:\n",
      " ['bird!', 'deals', 'mns', 'treated?', 'slices', 'companion', '2nite-tell', 'absolutely', 'ou', 'young']\n",
      "\n",
      "\n",
      "Respective IDF scores:\n",
      " [7.93290042 7.93290042 7.93290042 7.93290042 7.93290042 7.93290042\n",
      " 7.93290042 7.93290042 7.93290042 7.93290042]\n",
      "\n",
      "\n",
      "Top 10 least important words as indicated by the TFIDF score is:\n",
      " ['2', '', \"i'm\", 'ur', 'just', '&lt;#&gt;', '4', '.', 'like', 'got']\n",
      "\n",
      "\n",
      "Respective IDF scores:\n",
      " [2.71254459 3.05770309 2.77097567 2.90246249 2.75392981 3.25540957\n",
      " 3.16646208 3.82202655 3.23242005 3.20994719]\n",
      "\n",
      "\n",
      "Total number of columns in spam_df3: 13262\n",
      "\n",
      "\n",
      "Total number of rows in spam_df3: 5574\n",
      "\n",
      "\n"
     ]
    }
   ],
   "source": [
    "# Your code here\n",
    "\n",
    "from pyspark.ml.feature import CountVectorizer\n",
    "from pyspark.ml import feature, classification, evaluation, Pipeline\n",
    "\n",
    "\n",
    "cv = CountVectorizer().setInputCol(\"filtered_text\").setOutputCol(\"tf\")\n",
    "\n",
    "\n",
    "from pyspark.ml.feature import IDF\n",
    "idf = IDF().\\\n",
    "    setInputCol('tf').\\\n",
    "    setOutputCol('tfidf')\n",
    "\n",
    "\n",
    "tfidf_pipeline = Pipeline(stages = [cv, idf]).fit(spam_df2)\n",
    "\n",
    "\n",
    "spam_df3 = tfidf_pipeline.transform(spam_df2)\n",
    "spam_df3.show()\n",
    "\n",
    "\n",
    "#head and shape of spam_df1\n",
    "print(\"Head of spam_df3:\", spam_df3.head())\n",
    "print(\"\\n\")\n",
    "print(\"Shape of spam_df3:\", spam_df3.count(), len(spam_df3.columns)) \n",
    "print(\"\\n\")\n",
    "\n",
    "#top 10 most important words indicated by the TFIDF score\n",
    "x = tfidf_pipeline.stages[0].vocabulary\n",
    "y = tfidf_pipeline.stages[1].idf\n",
    "topTen = y[-10:]\n",
    "topTenAgain = x[-10:]\n",
    "print(\"Top 10 most important words as indicated by the TFIDF score is:\\n\", topTenAgain)\n",
    "print(\"\\n\")\n",
    "print(\"Respective IDF scores:\\n\", topTen)\n",
    "print(\"\\n\")\n",
    "\n",
    "\n",
    "#10 least important words as indicated by the TFIDF score\n",
    "print(\"Top 10 least important words as indicated by the TFIDF score is:\\n\", x[1:11])\n",
    "print(\"\\n\")\n",
    "print(\"Respective IDF scores:\\n\", y[1:11])\n",
    "print(\"\\n\")\n",
    "\n",
    "\n",
    "#total number of columns in the TFIDF data in spam_df3\n",
    "print(\"Total number of columns in spam_df3:\", len(y))\n",
    "print(\"\\n\")\n",
    "\n",
    "\n",
    "#number of rows in the TFIDF data in spam_df3\n",
    "print(\"Total number of rows in spam_df3:\", spam_df3.count())\n",
    "print(\"\\n\")\n",
    "\n",
    "\n",
    "#Since the number of features are more as compared to the number of rows, the model will overfit."
   ]
  },
  {
   "cell_type": "markdown",
   "metadata": {},
   "source": [
    "Your model overfit explanation here:\n",
    "\n",
    "Since the number of features are more as compared to the number of rows, the model will overfit."
   ]
  },
  {
   "cell_type": "markdown",
   "metadata": {},
   "source": [
    "### Grading Feedback"
   ]
  },
  {
   "cell_type": "markdown",
   "metadata": {},
   "source": [
    "# Question 4\n",
    "Create a pipeline named pipe1 capable of predicting ham or spam using logistic regression using spam_df3 as input data."
   ]
  },
  {
   "cell_type": "code",
   "execution_count": 219,
   "metadata": {},
   "outputs": [],
   "source": [
    "# your code here\n",
    "\n",
    "from pyspark.ml import feature, classification, evaluation, Pipeline\n",
    "from pyspark.ml.classification import LogisticRegression\n",
    "from pyspark.sql.types import DoubleType\n",
    "\n",
    "\n",
    "training_df, validation_df, testing_df = spam_df3.randomSplit([0.6, 0.3, 0.1], seed=0)\n",
    "\n",
    "\n",
    "lr = LogisticRegression().setLabelCol(\"spam\").setFeaturesCol(\"tfidf\").setRegParam(0.0).setMaxIter(100).\\\n",
    "        setElasticNetParam(0.)\n",
    "\n",
    "\n",
    "pipe1 = Pipeline(stages=[lr]).fit(spam_df3)\n",
    "spam_df3 = spam_df3.withColumn(\"spam\", spam_df3[\"spam\"].cast(DoubleType()))"
   ]
  },
  {
   "cell_type": "markdown",
   "metadata": {},
   "source": [
    "### Grading Feedback"
   ]
  },
  {
   "cell_type": "markdown",
   "metadata": {},
   "source": [
    "# Question 5\n",
    "Fit pipe1 using a [CrossValidator](https://spark.apache.org/docs/2.2.0/api/python/pyspark.ml.html#pyspark.ml.tuning.CrossValidator) object with the number of cross validation folds = 3.  Score the model using a [BinaryClassificationEvaluator](https://spark.apache.org/docs/latest/api/python/pyspark.ml.html) using ROC AUC as the metric.  Name the cross validator object cv1 and the fitted cross validator object fitted_cv1."
   ]
  },
  {
   "cell_type": "code",
   "execution_count": 220,
   "metadata": {},
   "outputs": [],
   "source": [
    "# your code here\n",
    "\n",
    "from pyspark.sql import functions as fn, Row\n",
    "from pyspark.ml.tuning import CrossValidator, ParamGridBuilder\n",
    "from pyspark.ml.evaluation import BinaryClassificationEvaluator\n",
    "\n",
    "\n",
    "evaluator = BinaryClassificationEvaluator(labelCol = \"spam\")\n",
    "\n",
    "\n",
    "paramGrid = (ParamGridBuilder().addGrid(lr.regParam, [0.2]).addGrid(lr.elasticNetParam, [0.2]).build())\n",
    "\n",
    "\n",
    "cv1 = CrossValidator(estimator = lr, estimatorParamMaps = paramGrid, evaluator = evaluator, numFolds = 3)\n",
    "\n",
    "\n",
    "fitted_cv1 = cv1.fit(testing_df)"
   ]
  },
  {
   "cell_type": "markdown",
   "metadata": {},
   "source": [
    "### Grading Feedback"
   ]
  },
  {
   "cell_type": "markdown",
   "metadata": {},
   "source": [
    "# Question 6\n",
    "Print the cross validation AUC score from fitted_cv1."
   ]
  },
  {
   "cell_type": "code",
   "execution_count": 221,
   "metadata": {},
   "outputs": [
    {
     "data": {
      "text/plain": [
       "0.9637503823799327"
      ]
     },
     "execution_count": 221,
     "metadata": {},
     "output_type": "execute_result"
    }
   ],
   "source": [
    "# your code here\n",
    "\n",
    "evaluator.evaluate(fitted_cv1.transform(testing_df))"
   ]
  },
  {
   "cell_type": "markdown",
   "metadata": {},
   "source": [
    "### Grading Feedback"
   ]
  },
  {
   "cell_type": "markdown",
   "metadata": {},
   "source": [
    "# Question 7\n",
    "Create a ROC scatter plot from fitted_pipe1 TPR/FPR data."
   ]
  },
  {
   "cell_type": "code",
   "execution_count": 222,
   "metadata": {},
   "outputs": [
    {
     "name": "stdout",
     "output_type": "stream",
     "text": [
      "        TPR\n",
      "0  0.000000\n",
      "1  0.078983\n",
      "2  0.153949\n",
      "3  0.236948\n",
      "4  0.319946\n",
      "   FPR\n",
      "0  0.0\n",
      "1  0.0\n",
      "2  0.0\n",
      "3  0.0\n",
      "4  0.0\n"
     ]
    },
    {
     "data": {
      "image/png": "[encoded data removed]",
      "text/plain": [
       "<Figure size 432x288 with 1 Axes>"
      ]
     },
     "metadata": {
      "needs_background": "light"
     },
     "output_type": "display_data"
    }
   ],
   "source": [
    "# your code here\n",
    "\n",
    "import matplotlib.pyplot as plt\n",
    "import seaborn as sns\n",
    "\n",
    "\n",
    "fpr = pipe1.stages[-1].summary.roc.select(\"TPR\").toPandas()\n",
    "tpr = pipe1.stages[-1].summary.roc.select(\"FPR\").toPandas()\n",
    "\n",
    "\n",
    "print(fpr.head())\n",
    "print(tpr.head())\n",
    "\n",
    "\n",
    "plt.scatter(tpr, fpr)\n",
    "plt.title(\"ROC scatter Plot for TPR v/s FPR\")\n",
    "plt.xlabel(\"FPR\")\n",
    "plt.ylabel(\"TPR\")\n",
    "display()"
   ]
  },
  {
   "cell_type": "markdown",
   "metadata": {},
   "source": [
    "### Grading Feedback"
   ]
  },
  {
   "cell_type": "markdown",
   "metadata": {},
   "source": [
    "# Question 8\n",
    "Create a new cross validator object named cv2 similar to cv1 but this time add a ParamGridBuilder.  Define a grid of elastic net regularization parameters. Fit cv2 and name the resulting fitted cross validator fitted_cv2.  The number of parameters in your grid should be limited such that it runs in a reasonable amount of time (around 5 to 10 minutes max).  "
   ]
  },
  {
   "cell_type": "code",
   "execution_count": 232,
   "metadata": {},
   "outputs": [],
   "source": [
    "# your code here\n",
    "\n",
    "ParaGrid = (ParamGridBuilder().addGrid(lr.regParam, [0.01, 0.3, 0.5]).addGrid(lr.elasticNetParam, [0.1, 0.2, 0.3]) \n",
    "             .build())\n",
    "\n",
    "\n",
    "evaluator = BinaryClassificationEvaluator(labelCol = \"spam\")\n",
    "\n",
    "\n",
    "cv2 = CrossValidator(estimator = lr, estimatorParamMaps = ParaGrid, evaluator = evaluator, numFolds = 3)\n",
    "\n",
    "\n",
    "fitted_cv2 = cv2.fit(testing_df)"
   ]
  },
  {
   "cell_type": "markdown",
   "metadata": {},
   "source": [
    "### Grading feedback"
   ]
  },
  {
   "cell_type": "markdown",
   "metadata": {},
   "source": [
    "# Question 9\n",
    "- Print the resulting AUC from fitted_cv2. \n",
    "- Print the best model's L1 and L2 regularization parameters\n",
    "- Analyze the L1 feature selection:\n",
    "    - Print the total number of features\n",
    "    - Print the number of features that L1 regularization eliminated\n",
    "    - If any features were eliminated, print a sample of 10 words that were eliminated"
   ]
  },
  {
   "cell_type": "code",
   "execution_count": 243,
   "metadata": {},
   "outputs": [
    {
     "name": "stdout",
     "output_type": "stream",
     "text": [
      "AUC score from fitted_cv2 0.9707072194585952\n",
      "\n",
      "\n",
      "L1 is  0.1\n",
      "L2 is  0.9\n",
      "\n",
      "\n",
      "Total number of features: 13262\n",
      "Number of features eleminated by L1 regularization: 12518\n",
      "Sample of words eliminated by L1 regularisation: ['', '!', '!!', '!!!', '!!!!', \"!!''.\", '!1', '!:-)', '!this', '\"\"']\n"
     ]
    }
   ],
   "source": [
    "# your code here\n",
    "\n",
    "import pandas as pd\n",
    "from collections import OrderedDict\n",
    "\n",
    "\n",
    "print(\"AUC score from fitted_cv2\", evaluator.evaluate(fitted_cv2.transform(spam_df3)))\n",
    "print(\"\\n\")\n",
    "\n",
    "\n",
    "x1 = fitted_cv2.bestModel._java_obj.getElasticNetParam()\n",
    "x2 = 1 - x1\n",
    "\n",
    "\n",
    "print(\"L1 is \", format(x1))\n",
    "print(\"L2 is \", format(x2))\n",
    "print(\"\\n\")\n",
    "\n",
    "\n",
    "no_of_features = pd.Series(OrderedDict(sorted((zip(tfidf_pipeline.stages[0].vocabulary,fitted_cv2.bestModel\\\n",
    "                                                   .coefficients.toArray())))))\n",
    "\n",
    "\n",
    "print(\"Total number of features:\", len(no_of_features))\n",
    "print(\"Number of features eleminated by L1 regularization:\", format(len(no_of_features[no_of_features == 0])))\n",
    "print(\"Sample of words eliminated by L1 regularisation:\",list(no_of_features[:10].index))"
   ]
  },
  {
   "cell_type": "markdown",
   "metadata": {},
   "source": [
    "### Grading Feedback"
   ]
  },
  {
   "cell_type": "markdown",
   "metadata": {},
   "source": [
    "# Question 10\n",
    "Analyze the best model weights in fitted_cv2.  Print the 10 words that contribute the most to predicting spam.  Print the 10 words that contribute the least to predicting spam.  Do the words make sense?  Explain."
   ]
  },
  {
   "cell_type": "code",
   "execution_count": 245,
   "metadata": {},
   "outputs": [
    {
     "name": "stdout",
     "output_type": "stream",
     "text": [
      "Ten words that contribute the most to predicting spam: Index(['ü.', 'ü..', 'ü...', 'ü?', '–', '“', '“harry', '…', '….', '…thanks'], dtype='object')\n",
      "\n",
      "\n",
      "Ten words that contribute the least to predicting spam: ['', '!', '!!', '!!!', '!!!!', \"!!''.\", '!1', '!:-)', '!this', '\"\"']\n"
     ]
    }
   ],
   "source": [
    "# your code here\n",
    "\n",
    "print(\"Ten words that contribute the most to predicting spam:\", format(no_of_features[-10:].index))\n",
    "print(\"\\n\")\n",
    "print(\"Ten words that contribute the least to predicting spam:\", list(no_of_features[:10].index))"
   ]
  },
  {
   "cell_type": "markdown",
   "metadata": {},
   "source": [
    "Your comments here:"
   ]
  },
  {
   "cell_type": "markdown",
   "metadata": {},
   "source": [
    "### Grading Feedback"
   ]
  },
  {
   "cell_type": "markdown",
   "metadata": {},
   "source": [
    "**Extra Credit (5 pts)**  This question is optional.  If you choose to answer this question, you will earn 5 extra credit points.  If you choose not to answer this question, no points will be deducted from your score.  Solve the following equation for $c$ symbolically using the python sympy package.  Convert the solved symbolic solution to a latex format (this can be done with a pyton call), then populate the solution cell with the resulting latex code so that your solution shows up symbolically similar the equation below.\n",
    "\n",
    "$$c g - c h + e \\left(a + 1\\right)^{b} - \\frac{d \\left(\\left(a + 1\\right)^{b} - 1\\right)}{a} + \\frac{f \\left(\\left(a + 1\\right)^{b} - 1\\right)}{a} = 0$$"
   ]
  },
  {
   "cell_type": "code",
   "execution_count": 230,
   "metadata": {},
   "outputs": [],
   "source": [
    "# do not delete or change this cell\n",
    "\n",
    "# if running on data bricks\n",
    "if is_databricks():\n",
    "    # install sympy\n",
    "    dbutils.library.installPyPI\n",
    "    dbutils.library.installPyPI('sympy')\n",
    "    print(dbutils.library.list())"
   ]
  },
  {
   "cell_type": "code",
   "execution_count": 231,
   "metadata": {},
   "outputs": [
    {
     "name": "stdout",
     "output_type": "stream",
     "text": [
      "\\left[ \\frac{- a e \\left(a + 1\\right)^{b} + d \\left(a + 1\\right)^{b} - d - f \\left(a + 1\\right)^{b} + f}{a \\left(g - h\\right)}\\right]\n"
     ]
    }
   ],
   "source": [
    "# your code here\n",
    "\n",
    "import sympy as sym\n",
    "\n",
    "\n",
    "a = sym.Symbol('a')\n",
    "b = sym.Symbol('b')\n",
    "c = sym.Symbol('c')\n",
    "d = sym.Symbol('d')\n",
    "e = sym.Symbol('e')\n",
    "f = sym.Symbol('f')\n",
    "g = sym.Symbol('g')\n",
    "h = sym.Symbol('h')\n",
    "\n",
    "\n",
    "x = c*g - c*h\n",
    "y = (e*(a+1)**b)\n",
    "z = ((d*((a+1)**b-1))/a)\n",
    "w = ((f*((a+1)**b-1)/a))\n",
    "     \n",
    "eqn = sym.solve(x+y-z+w,c)\n",
    "     \n",
    "print(sym.latex(eqn))"
   ]
  },
  {
   "cell_type": "markdown",
   "metadata": {},
   "source": [
    "Add your latex output here such that a human readable equation is displayed for grading\n",
    "$$\\left[ \\frac{- a e \\left(a + 1\\right)^{b} + d \\left(a + 1\\right)^{b} - d - f \\left(a + 1\\right)^{b} + f}{a \\left(g - h\\right)}\\right]$$"
   ]
  },
  {
   "cell_type": "markdown",
   "metadata": {},
   "source": [
    "### Grading Feedback"
   ]
  }
 ],
 "metadata": {
  "kernelspec": {
   "display_name": "Python 3",
   "language": "python",
   "name": "python3"
  },
  "language_info": {
   "codemirror_mode": {
    "name": "ipython",
    "version": 3
   },
   "file_extension": ".py",
   "mimetype": "text/x-python",
   "name": "python",
   "nbconvert_exporter": "python",
   "pygments_lexer": "ipython3",
   "version": "3.7.4"
  }
 },
 "nbformat": 4,
 "nbformat_minor": 4
}
